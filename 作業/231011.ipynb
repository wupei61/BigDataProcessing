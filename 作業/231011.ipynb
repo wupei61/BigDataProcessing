{
  "nbformat": 4,
  "nbformat_minor": 0,
  "metadata": {
    "colab": {
      "provenance": [],
      "toc_visible": true
    },
    "kernelspec": {
      "name": "python3",
      "display_name": "Python 3"
    },
    "language_info": {
      "name": "python"
    }
  },
  "cells": [
    {
      "cell_type": "code",
      "execution_count": 8,
      "metadata": {
        "colab": {
          "base_uri": "https://localhost:8080/"
        },
        "id": "69nB7ZyRQK2D",
        "outputId": "8191ded4-3012-44e2-da22-ed475bc26783"
      },
      "outputs": [
        {
          "output_type": "stream",
          "name": "stdout",
          "text": [
            "威力採期數: 112/10/16 第112000083期 \n",
            "開出順序 : 25  20  31  07  32  05  \n",
            "大小順序 :  05  07  20  25  31  32  \n",
            "第二區 :  08 \n"
          ]
        }
      ],
      "source": [
        " import requests\n",
        " from bs4 import BeautifulSoup\n",
        " url = 'https://www.taiwanlottery.com.tw/'\n",
        " r = requests.get(url)\n",
        " sp = BeautifulSoup(r.text, 'lxml')\n",
        " # 找到威力彩的區塊\n",
        " datas = sp.find('div', class_='contents_box02')\n",
        " # 開講期數\n",
        " title = datas.find('span', 'font_black15').text\n",
        " print('威力採期數:', title)\n",
        " # 開獎號碼\n",
        " nums = datas.find_all('div', class_='ball_tx ball_green')\n",
        " # 開出順序\n",
        " print('開出順序 :', end=' ')\n",
        " for i in range(0,6):\n",
        "    print(nums[i].text, end=' ')\n",
        " # 大小順序\n",
        " print( '\\n大小順序 : ' ,end=' ')\n",
        " for i in range(6,12):\n",
        "    print(nums[i].text, end=' ')\n",
        " # 第二區\n",
        " num = datas.find('div', class_='ball_red').text\n",
        " print( '\\n第二區 : ', num)"
      ]
    }
  ]
}