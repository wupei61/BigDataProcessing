{
  "nbformat": 4,
  "nbformat_minor": 0,
  "metadata": {
    "colab": {
      "provenance": []
    },
    "kernelspec": {
      "name": "python3",
      "display_name": "Python 3"
    },
    "language_info": {
      "name": "python"
    }
  },
  "cells": [
    {
      "cell_type": "code",
      "execution_count": 14,
      "metadata": {
        "colab": {
          "base_uri": "https://localhost:8080/"
        },
        "id": "Dhk3Zd2DZElE",
        "outputId": "b437997a-81e5-40c9-9b80-4dbf90b3a121"
      },
      "outputs": [
        {
          "output_type": "stream",
          "name": "stdout",
          "text": [
            "<p>½Ð¹Á¸Õ°õ¦æ¤U¦C°Ê§@¡G</p>\n",
            "[<p>½Ð¹Á¸Õ°õ¦æ¤U¦C°Ê§@¡G</p>, <p>§Þ³N¸ê°T (¨Ñ§Þ³N¤ä´©¤H­û¨Ï¥Î)</p>]\n",
            "None\n",
            "None\n"
          ]
        }
      ],
      "source": [
        " import requests\n",
        " from bs4 import BeautifulSoup\n",
        " url = 'http://ehappy.tw/bsdemol.htm'\n",
        " html = requests.get(url)\n",
        " sp = BeautifulSoup(html.text,'lxml')\n",
        " print(sp.find('p'))\n",
        " print(sp.find_all('p'))\n",
        " print(sp.find('p', {'id':'p2', 'class':'red'}))\n",
        " print(sp.find('p',id = 'p2', class_='red'))"
      ]
    }
  ]
}